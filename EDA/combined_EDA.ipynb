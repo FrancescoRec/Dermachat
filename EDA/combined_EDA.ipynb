{
 "cells": [
  {
   "cell_type": "code",
   "execution_count": null,
   "metadata": {},
   "outputs": [],
   "source": [
    "# ....carlos do the combined"
   ]
  },
  {
   "cell_type": "code",
   "execution_count": null,
   "metadata": {},
   "outputs": [],
   "source": [
    "ddi_filename = 'ddi_metadata.csv'\n",
    "fitz_filename = 'fitzpatrick17k.csv'\n",
    "folder_name = 'raw_data/metadata/date=27-03-2024/'\n",
    "\n",
    "# Retrieve CSV files from S3\n",
    "ddi_csv_object = s3.get_object(Bucket=s3_bucket, Key=folder_name + ddi_filename)\n",
    "fitz_csv_object = s3.get_object(Bucket=s3_bucket, Key=folder_name + fitz_filename)\n",
    "\n",
    "# Read CSV contents\n",
    "ddi_csv_content = ddi_csv_object['Body'].read().decode('utf-8')\n",
    "fitz_csv_content = fitz_csv_object['Body'].read().decode('utf-8')\n",
    "\n",
    "# Convert CSV contents to DataFrame\n",
    "df_ddi = pd.read_csv(StringIO(ddi_csv_content))\n",
    "df_fitz = pd.read_csv(StringIO(fitz_csv_content))\n",
    "\n",
    "df_merged = pd.DataFrame(index=range(len(df_ddi) + len(df_fitz)), columns=[\"filename\", \"skin_tone\", \"malignant\", \"path\"])\n",
    "df_merged['filename'] = df_ddi['DDI_file'].tolist() + df_fitz['md5hash'].tolist()\n",
    "df_merged['filename'] = df_merged['filename'].apply(lambda x: x + \".jpg\" if not x.endswith(\".png\") else x)\n",
    "\n",
    "df_merged['skin_tone'] = df_ddi['skin_tone'].tolist() + df_fitz['fitzpatrick_scale'].tolist()\n",
    "df_merged['skin_tone'] = df_merged['skin_tone'].replace([1, 2], 12).replace([3, 4], 34).replace([5, 6], 56)\n",
    "\n",
    "df_merged['malignant'] = df_ddi['malignant'].tolist() + df_fitz['three_partition_label'].tolist()\n",
    "df_merged['malignant'] = df_merged['malignant'].replace(['malignant'], True).replace(['non-neoplastic', 'benign'], False)\n",
    "\n",
    "df_merged['path'] = [folder_name + ddi_filename] * len(df_ddi) + [folder_name + fitz_filename] * len(df_fitz)\n",
    "\n",
    "df_merged = df_merged[df_merged['skin_tone'] != -1]\n",
    "\n",
    "folder_prepared = 'prepared/metadata/date=27-03-2024/'\n",
    "\n",
    "# Convert DataFrame to CSV as bytes\n",
    "csv_buffer = io.BytesIO()\n",
    "df_merged.to_csv(csv_buffer, index=False)\n",
    "csv_buffer.seek(0)  \n",
    "\n",
    "# Upload the encoded CSV to S3\n",
    "s3.upload_fileobj(csv_buffer, s3_bucket, folder_prepared + 'merged_metadata.csv')\n"
   ]
  },
  {
   "cell_type": "code",
   "execution_count": null,
   "metadata": {},
   "outputs": [],
   "source": [
    "# then in the folder modeling the notebook will call the merged_metadata.csv file"
   ]
  }
 ],
 "metadata": {
  "language_info": {
   "name": "python"
  }
 },
 "nbformat": 4,
 "nbformat_minor": 2
}
