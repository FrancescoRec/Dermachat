{
 "cells": [
  {
   "cell_type": "code",
   "execution_count": 9,
   "metadata": {},
   "outputs": [],
   "source": [
    "import boto3\n",
    "import csv\n",
    "import os\n",
    "import matplotlib.pyplot as plt \n",
    "import seaborn as sns\n",
    "import pandas as pd\n",
    "from io import StringIO\n",
    "import io"
   ]
  },
  {
   "cell_type": "code",
   "execution_count": 2,
   "metadata": {},
   "outputs": [
    {
     "name": "stdout",
     "output_type": "stream",
     "text": [
      "DDI info:\n",
      "<class 'pandas.core.frame.DataFrame'>\n",
      "RangeIndex: 656 entries, 0 to 655\n",
      "Data columns (total 6 columns):\n",
      " #   Column      Non-Null Count  Dtype \n",
      "---  ------      --------------  ----- \n",
      " 0   Unnamed: 0  656 non-null    int64 \n",
      " 1   DDI_ID      656 non-null    int64 \n",
      " 2   DDI_file    656 non-null    object\n",
      " 3   skin_tone   656 non-null    int64 \n",
      " 4   malignant   656 non-null    bool  \n",
      " 5   disease     656 non-null    object\n",
      "dtypes: bool(1), int64(3), object(2)\n",
      "memory usage: 26.4+ KB\n",
      "None\n",
      "\n",
      "Fitzpatrick info:\n",
      "<class 'pandas.core.frame.DataFrame'>\n",
      "RangeIndex: 16577 entries, 0 to 16576\n",
      "Data columns (total 9 columns):\n",
      " #   Column                 Non-Null Count  Dtype \n",
      "---  ------                 --------------  ----- \n",
      " 0   md5hash                16577 non-null  object\n",
      " 1   fitzpatrick_scale      16577 non-null  int64 \n",
      " 2   fitzpatrick_centaur    16577 non-null  int64 \n",
      " 3   label                  16577 non-null  object\n",
      " 4   nine_partition_label   16577 non-null  object\n",
      " 5   three_partition_label  16577 non-null  object\n",
      " 6   qc                     504 non-null    object\n",
      " 7   url                    16536 non-null  object\n",
      " 8   url_alphanum           16577 non-null  object\n",
      "dtypes: int64(2), object(7)\n",
      "memory usage: 1.1+ MB\n",
      "None\n",
      "\n",
      "DDI head:\n",
      "   Unnamed: 0  DDI_ID    DDI_file  skin_tone  malignant  \\\n",
      "0           0       1  000001.png         56       True   \n",
      "1           1       2  000002.png         56       True   \n",
      "2           2       3  000003.png         56       True   \n",
      "3           3       4  000004.png         56       True   \n",
      "4           4       5  000005.png         12       True   \n",
      "\n",
      "                           disease  \n",
      "0                 melanoma-in-situ  \n",
      "1                 melanoma-in-situ  \n",
      "2                mycosis-fungoides  \n",
      "3  squamous-cell-carcinoma-in-situ  \n",
      "4             basal-cell-carcinoma  \n",
      "\n",
      "Fitzpatrick head:\n",
      "                            md5hash  fitzpatrick_scale  fitzpatrick_centaur  \\\n",
      "0  5e82a45bc5d78bd24ae9202d194423f8                  3                    3   \n",
      "1  fa2911a9b13b6f8af79cb700937cc14f                  1                    1   \n",
      "2  d2bac3c9e4499032ca8e9b07c7d3bc40                  2                    3   \n",
      "3  0a94359e7eaacd7178e06b2823777789                  1                    1   \n",
      "4  a39ec3b1f22c08a421fa20535e037bba                  1                    1   \n",
      "\n",
      "                             label nine_partition_label three_partition_label  \\\n",
      "0  drug induced pigmentary changes         inflammatory        non-neoplastic   \n",
      "1                  photodermatoses         inflammatory        non-neoplastic   \n",
      "2                   dermatofibroma        benign dermal                benign   \n",
      "3                        psoriasis         inflammatory        non-neoplastic   \n",
      "4                        psoriasis         inflammatory        non-neoplastic   \n",
      "\n",
      "    qc                                                url  \\\n",
      "0  NaN  https://www.dermaamin.com/site/images/clinical...   \n",
      "1  NaN  https://www.dermaamin.com/site/images/clinical...   \n",
      "2  NaN  https://www.dermaamin.com/site/images/clinical...   \n",
      "3  NaN  https://www.dermaamin.com/site/images/clinical...   \n",
      "4  NaN  https://www.dermaamin.com/site/images/clinical...   \n",
      "\n",
      "                                        url_alphanum  \n",
      "0  httpwwwdermaamincomsiteimagesclinicalpicmminoc...  \n",
      "1  httpwwwdermaamincomsiteimagesclinicalpicpphoto...  \n",
      "2  httpwwwdermaamincomsiteimagesclinicalpicdderma...  \n",
      "3  httpwwwdermaamincomsiteimagesclinicalpicppsori...  \n",
      "4  httpwwwdermaamincomsiteimagesclinicalpicppsori...  \n"
     ]
    }
   ],
   "source": [
    "# Define s3 client:\n",
    "s3 = boto3.client('s3') # Define or request credentials to place under credencials txt .aws local folder\n",
    "\n",
    "# Define bucket file variables:\n",
    "ddi_filename = 'ddi_metadata.csv'\n",
    "fitz_filename = 'fitzpatrick17k.csv'\n",
    "folder_name = 'raw_data/metadata/date=27-03-2024/'\n",
    "s3_bucket = 'provafinalproject-test'\n",
    "\n",
    "# Retrieve CSV files from S3:\n",
    "ddi_csv_object = s3.get_object(Bucket=s3_bucket, Key=folder_name + ddi_filename)\n",
    "fitz_csv_object = s3.get_object(Bucket=s3_bucket, Key=folder_name + fitz_filename)\n",
    "\n",
    "# Read CSV contents:\n",
    "ddi_csv_content = ddi_csv_object['Body'].read().decode('utf-8')\n",
    "fitz_csv_content = fitz_csv_object['Body'].read().decode('utf-8')\n",
    "\n",
    "# Convert CSV contents to DataFrame:\n",
    "df_ddi = pd.read_csv(StringIO(ddi_csv_content))\n",
    "df_fitz = pd.read_csv(StringIO(fitz_csv_content))\n",
    "\n",
    "# Inspect datasets\n",
    "print('DDI info:')\n",
    "print(df_ddi.info())\n",
    "print()\n",
    "print('Fitzpatrick info:')\n",
    "print(df_fitz.info())\n",
    "print()\n",
    "print('DDI head:')\n",
    "print(df_ddi.head(5))\n",
    "print()\n",
    "print('Fitzpatrick head:')\n",
    "print(df_fitz.head(5))"
   ]
  },
  {
   "cell_type": "code",
   "execution_count": 3,
   "metadata": {},
   "outputs": [
    {
     "name": "stdout",
     "output_type": "stream",
     "text": [
      "File uploaded successfully to: s3://provafinalproject-test\n"
     ]
    }
   ],
   "source": [
    "# Merge datasets:\n",
    "df_merged = pd.DataFrame(index=range(len(df_ddi) + len(df_fitz)), columns=[\"filename\", \"skin_tone\", \"malignant\", \"path\"])\n",
    "df_merged['filename'] = df_ddi['DDI_file'].tolist() + df_fitz['md5hash'].tolist()\n",
    "df_merged['filename'] = df_merged['filename'].apply(lambda x: x + \".jpg\" if not x.endswith(\".png\") else x)\n",
    "\n",
    "df_merged['skin_tone'] = df_ddi['skin_tone'].tolist() + df_fitz['fitzpatrick_scale'].tolist()\n",
    "df_merged['skin_tone'] = df_merged['skin_tone'].replace([1, 2], 12).replace([3, 4], 34).replace([5, 6], 56)\n",
    "\n",
    "df_merged['malignant'] = df_ddi['malignant'].tolist() + df_fitz['three_partition_label'].tolist()\n",
    "df_merged['malignant'] = df_merged['malignant'].replace(['malignant'], True).replace(['non-neoplastic', 'benign'], False)\n",
    "\n",
    "df_merged['path'] = [folder_name + ddi_filename] * len(df_ddi) + [folder_name + fitz_filename] * len(df_fitz)\n",
    "\n",
    "df_merged = df_merged[df_merged['skin_tone'] != -1]\n",
    "\n",
    "folder_prepared = 'prepared/metadata/date=27-03-2024/'\n",
    "\n",
    "# Convert DataFrame to CSV as bytes:\n",
    "csv_buffer = io.BytesIO()\n",
    "df_merged.to_csv(csv_buffer, index=False)\n",
    "csv_buffer.seek(0)  \n",
    "\n",
    "# Upload the encoded CSV to S3:\n",
    "try:\n",
    "    s3.upload_fileobj(csv_buffer, s3_bucket, folder_prepared + 'merged_metadata.csv')\n",
    "    print(f'File uploaded successfully to: s3://{s3_bucket}')\n",
    "except Exception as e:\n",
    "    print(f'Error uploading file: {e}')\n"
   ]
  },
  {
   "cell_type": "markdown",
   "metadata": {},
   "source": [
    "## How to access the merged_metadata file for modeling\n",
    "\n",
    "**Step 1**\n",
    "- Request credentials to place under .aws/credentials.txt\n",
    "\n",
    "**Step 2**\n",
    "- In the modeling notebook, call the merged_metadata.csv file from the S3 bucket using these settings:\n",
    "    - folder_name = 'prepared/metadata/date=27-03-2024/'\n",
    "    - s3_bucket = 'provafinalproject-test'\n"
   ]
  },
  {
   "cell_type": "code",
   "execution_count": 10,
   "metadata": {},
   "outputs": [
    {
     "data": {
      "text/html": [
       "<div>\n",
       "<style scoped>\n",
       "    .dataframe tbody tr th:only-of-type {\n",
       "        vertical-align: middle;\n",
       "    }\n",
       "\n",
       "    .dataframe tbody tr th {\n",
       "        vertical-align: top;\n",
       "    }\n",
       "\n",
       "    .dataframe thead th {\n",
       "        text-align: right;\n",
       "    }\n",
       "</style>\n",
       "<table border=\"1\" class=\"dataframe\">\n",
       "  <thead>\n",
       "    <tr style=\"text-align: right;\">\n",
       "      <th></th>\n",
       "      <th>filename</th>\n",
       "      <th>skin_tone</th>\n",
       "      <th>malignant</th>\n",
       "      <th>path</th>\n",
       "    </tr>\n",
       "  </thead>\n",
       "  <tbody>\n",
       "    <tr>\n",
       "      <th>0</th>\n",
       "      <td>000001.png</td>\n",
       "      <td>56</td>\n",
       "      <td>True</td>\n",
       "      <td>raw_data/metadata/date=27-03-2024/ddi_metadata...</td>\n",
       "    </tr>\n",
       "    <tr>\n",
       "      <th>1</th>\n",
       "      <td>000002.png</td>\n",
       "      <td>56</td>\n",
       "      <td>True</td>\n",
       "      <td>raw_data/metadata/date=27-03-2024/ddi_metadata...</td>\n",
       "    </tr>\n",
       "    <tr>\n",
       "      <th>2</th>\n",
       "      <td>000003.png</td>\n",
       "      <td>56</td>\n",
       "      <td>True</td>\n",
       "      <td>raw_data/metadata/date=27-03-2024/ddi_metadata...</td>\n",
       "    </tr>\n",
       "    <tr>\n",
       "      <th>3</th>\n",
       "      <td>000004.png</td>\n",
       "      <td>56</td>\n",
       "      <td>True</td>\n",
       "      <td>raw_data/metadata/date=27-03-2024/ddi_metadata...</td>\n",
       "    </tr>\n",
       "    <tr>\n",
       "      <th>4</th>\n",
       "      <td>000005.png</td>\n",
       "      <td>12</td>\n",
       "      <td>True</td>\n",
       "      <td>raw_data/metadata/date=27-03-2024/ddi_metadata...</td>\n",
       "    </tr>\n",
       "  </tbody>\n",
       "</table>\n",
       "</div>"
      ],
      "text/plain": [
       "     filename  skin_tone  malignant  \\\n",
       "0  000001.png         56       True   \n",
       "1  000002.png         56       True   \n",
       "2  000003.png         56       True   \n",
       "3  000004.png         56       True   \n",
       "4  000005.png         12       True   \n",
       "\n",
       "                                                path  \n",
       "0  raw_data/metadata/date=27-03-2024/ddi_metadata...  \n",
       "1  raw_data/metadata/date=27-03-2024/ddi_metadata...  \n",
       "2  raw_data/metadata/date=27-03-2024/ddi_metadata...  \n",
       "3  raw_data/metadata/date=27-03-2024/ddi_metadata...  \n",
       "4  raw_data/metadata/date=27-03-2024/ddi_metadata...  "
      ]
     },
     "execution_count": 10,
     "metadata": {},
     "output_type": "execute_result"
    }
   ],
   "source": [
    "df_merged.head(5)"
   ]
  },
  {
   "cell_type": "code",
   "execution_count": 12,
   "metadata": {},
   "outputs": [
    {
     "data": {
      "text/plain": [
       "count    16668.00000\n",
       "mean        26.62443\n",
       "std         15.67824\n",
       "min         12.00000\n",
       "25%         12.00000\n",
       "50%         34.00000\n",
       "75%         34.00000\n",
       "max         56.00000\n",
       "Name: skin_tone, dtype: float64"
      ]
     },
     "execution_count": 12,
     "metadata": {},
     "output_type": "execute_result"
    }
   ],
   "source": [
    "df_merged['skin_tone'].describe()"
   ]
  },
  {
   "cell_type": "code",
   "execution_count": 13,
   "metadata": {},
   "outputs": [
    {
     "data": {
      "text/plain": [
       "skin_tone\n",
       "12    7963\n",
       "34    6330\n",
       "56    2375\n",
       "Name: count, dtype: int64"
      ]
     },
     "execution_count": 13,
     "metadata": {},
     "output_type": "execute_result"
    }
   ],
   "source": [
    "df_merged['skin_tone'].value_counts()"
   ]
  },
  {
   "cell_type": "code",
   "execution_count": 12,
   "metadata": {},
   "outputs": [
    {
     "data": {
      "image/png": "[encoded data removed]",
      "text/plain": [
       "<Figure size 1000x600 with 1 Axes>"
      ]
     },
     "metadata": {},
     "output_type": "display_data"
    }
   ],
   "source": [
    "diagnosis = df_merged['malignant'].value_counts()\n",
    "\n",
    "# Plotting the bar chart\n",
    "plt.figure(figsize=(10, 6))  # Adjust the figure size as needed\n",
    "sns.barplot(x=diagnosis.index, y=diagnosis.values)\n",
    "plt.title('Malignant Distribution')\n",
    "plt.xlabel('Malignant')\n",
    "plt.ylabel('Count')\n",
    "plt.show()"
   ]
  },
  {
   "cell_type": "code",
   "execution_count": 4,
   "metadata": {},
   "outputs": [
    {
     "name": "stdout",
     "output_type": "stream",
     "text": [
      "Combined dataset info:\n",
      "<class 'pandas.core.frame.DataFrame'>\n",
      "Index: 16668 entries, 0 to 17232\n",
      "Data columns (total 4 columns):\n",
      " #   Column     Non-Null Count  Dtype \n",
      "---  ------     --------------  ----- \n",
      " 0   filename   16668 non-null  object\n",
      " 1   skin_tone  16668 non-null  int64 \n",
      " 2   malignant  16668 non-null  bool  \n",
      " 3   path       16668 non-null  object\n",
      "dtypes: bool(1), int64(1), object(2)\n",
      "memory usage: 537.2+ KB\n",
      "None\n"
     ]
    }
   ],
   "source": [
    "# Information about the new dataframe:\n",
    "print('Combined dataset info:')\n",
    "print(df_merged.info())"
   ]
  },
  {
   "cell_type": "code",
   "execution_count": 7,
   "metadata": {},
   "outputs": [
    {
     "data": {
      "text/plain": [
       "array(['raw_data/metadata/date=27-03-2024/ddi_metadata.csv',\n",
       "       'raw_data/metadata/date=27-03-2024/fitzpatrick17k.csv'],\n",
       "      dtype=object)"
      ]
     },
     "execution_count": 7,
     "metadata": {},
     "output_type": "execute_result"
    }
   ],
   "source": [
    "# Review paths to make sure we only have 2: (no formatting errors)\n",
    "df_merged['path'].unique()"
   ]
  },
  {
   "cell_type": "code",
   "execution_count": 10,
   "metadata": {},
   "outputs": [
    {
     "data": {
      "image/png": "[encoded data removed]",
      "text/plain": [
       "<Figure size 1000x600 with 1 Axes>"
      ]
     },
     "metadata": {},
     "output_type": "display_data"
    }
   ],
   "source": [
    "# Visualy inspecting unbalance:\n",
    "skin_tone_counts = df_merged['skin_tone'].value_counts()\n",
    "\n",
    "# Plotting the bar chart\n",
    "plt.figure(figsize=(10, 6))  # Adjust the figure size as needed\n",
    "sns.barplot(x=skin_tone_counts.index, y=skin_tone_counts.values)\n",
    "plt.title('Skin Tone Distribution')\n",
    "plt.xlabel('Skin Tone')\n",
    "plt.ylabel('Count')\n",
    "plt.show()"
   ]
  },
  {
   "cell_type": "code",
   "execution_count": null,
   "metadata": {},
   "outputs": [],
   "source": []
  }
 ],
 "metadata": {
  "kernelspec": {
   "display_name": "base",
   "language": "python",
   "name": "python3"
  },
  "language_info": {
   "codemirror_mode": {
    "name": "ipython",
    "version": 3
   },
   "file_extension": ".py",
   "mimetype": "text/x-python",
   "name": "python",
   "nbconvert_exporter": "python",
   "pygments_lexer": "ipython3",
   "version": "3.11.5"
  }
 },
 "nbformat": 4,
 "nbformat_minor": 2
}
