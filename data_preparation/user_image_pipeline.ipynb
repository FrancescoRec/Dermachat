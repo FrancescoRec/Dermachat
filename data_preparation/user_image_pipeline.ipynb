{
 "cells": [
  {
   "cell_type": "code",
   "execution_count": 5,
   "metadata": {},
   "outputs": [
    {
     "data": {
      "text/plain": [
       "False"
      ]
     },
     "execution_count": 5,
     "metadata": {},
     "output_type": "execute_result"
    }
   ],
   "source": [
    "'''this notebook is version 1 of the data pipeline responsible for collecting and preparing \n",
    "new images from users that have taken a picture using the app'''\n",
    "\n",
    "# Importing necessary libraries:\n",
    "import boto3\n",
    "import datetime\n",
    "import psycopg2\n",
    "import os\n",
    "from dotenv import load_dotenv\n",
    "\n",
    "# Load environment variables from .env file\n",
    "load_dotenv()"
   ]
  },
  {
   "cell_type": "code",
   "execution_count": 3,
   "metadata": {},
   "outputs": [],
   "source": [
    "def upload_user_image(image_data):\n",
    "    ''' Retreive picture from app request and store it in s3 '''\n",
    "\n",
    "    # Initialize the S3 client:\n",
    "    s3 = boto3.client('s3')\n",
    "\n",
    "    # Declare bucket file variables:\n",
    "    folder_name = 'raw_data/images/date=27-03-2024/'\n",
    "    s3_bucket = 'provafinalproject-test'\n",
    "\n",
    "    # Generating a unique filename (We can use any method we prefer while keeping in mind GDPR)\n",
    "    current_datetime = datetime.now().strftime(\"%Y%m%d%H%M%S\")\n",
    "    user_tag = 'user1' #somehow assign a user variable?\n",
    "    filename = f\"{current_datetime}_{user_tag}.jpg\"  # Example: 20240428153000_user1.jpg\n",
    "\n",
    "    # Combine folder and filename to create the key\n",
    "    key = folder_name + filename\n",
    "\n",
    "    # Upload the image data to S3:\n",
    "    try:\n",
    "        s3.upload_fileobj(image_data, s3_bucket, key)\n",
    "        return f\"Successfully uploaded image to S3: {key}\"\n",
    "    except Exception as e:\n",
    "        return f\"Error uploading image to S3: {e}\""
   ]
  },
  {
   "cell_type": "code",
   "execution_count": 6,
   "metadata": {},
   "outputs": [],
   "source": [
    "def store_newimage_metadata():\n",
    "    ''' This function stores metadata from the new image to indicate that\n",
    "    it has not been officialy labelled by a specialist after diagnosis'''\n",
    "    try:\n",
    "        # Connect to the PostgreSQL database using environment variables:\n",
    "        connection = psycopg2.connect(\n",
    "            dbname=os.getenv(\"DB_NAME\"),\n",
    "            user=os.getenv(\"DB_USER\"),\n",
    "            password=os.getenv(\"DB_PASSWORD\"),\n",
    "            host=os.getenv(\"DB_HOST\"),\n",
    "            port=os.getenv(\"DB_PORT\")\n",
    "        )\n",
    "\n",
    "        # Create a cursor object to execute SQL queries:\n",
    "        cursor = connection.cursor()\n",
    "\n",
    "        # Create a new table named 'new_image_metadata' if it doesn't exist:\n",
    "        create_table_query = '''\n",
    "        CREATE TABLE IF NOT EXISTS new_image_metadata (\n",
    "            id SERIAL PRIMARY KEY,\n",
    "            filename VARCHAR(255),\n",
    "            skin_tone INTEGER,\n",
    "            malignant VARCHAR(10) DEFAULT 'TBD',\n",
    "            path VARCHAR(255)\n",
    "        )\n",
    "        '''\n",
    "        cursor.execute(create_table_query)\n",
    "        connection.commit()\n",
    "\n",
    "        # Insert image metadata into the table:\n",
    "        insert_query = '''\n",
    "        INSERT INTO new_image_metadata (filename, skin_tone, malignant, path)\n",
    "        VALUES (%s, %s, %s, %s)\n",
    "        '''\n",
    "        cursor.execute(insert_query, (filename, skin_tone, 'TBD', key))#skin_tone value determined through skin_tone model?\n",
    "        connection.commit()\n",
    "\n",
    "        print(\"Image metadata inserted successfully.\")\n",
    "\n",
    "    except (Exception, psycopg2.Error) as error:\n",
    "        print(\"Error while connecting to PostgreSQL or executing queries:\", error)\n",
    "\n",
    "    finally:\n",
    "        # Close the cursor and connection:\n",
    "        if connection:\n",
    "            cursor.close()\n",
    "            connection.close()\n",
    "            print(\"PostgreSQL connection is closed.\")\n",
    "    "
   ]
  },
  {
   "cell_type": "code",
   "execution_count": 4,
   "metadata": {},
   "outputs": [],
   "source": [
    "def retreive_for_review():\n",
    "    '''This function gets the image from the S3 bucket so that the specialist can \n",
    "    update it with the final diagnosis'''\n",
    "\n",
    "    return \"OK\"\n",
    "    "
   ]
  },
  {
   "cell_type": "code",
   "execution_count": null,
   "metadata": {},
   "outputs": [],
   "source": [
    "def add_final_diagnosis():\n",
    "    '''This function labels the metadata for the user image with the final\n",
    "    diagnosis performed by the specialist after consultation.'''\n",
    "\n",
    "    return \"OK\""
   ]
  }
 ],
 "metadata": {
  "kernelspec": {
   "display_name": "infra",
   "language": "python",
   "name": "python3"
  },
  "language_info": {
   "codemirror_mode": {
    "name": "ipython",
    "version": 3
   },
   "file_extension": ".py",
   "mimetype": "text/x-python",
   "name": "python",
   "nbconvert_exporter": "python",
   "pygments_lexer": "ipython3",
   "version": "3.11.5"
  },
  "orig_nbformat": 4
 },
 "nbformat": 4,
 "nbformat_minor": 2
}
